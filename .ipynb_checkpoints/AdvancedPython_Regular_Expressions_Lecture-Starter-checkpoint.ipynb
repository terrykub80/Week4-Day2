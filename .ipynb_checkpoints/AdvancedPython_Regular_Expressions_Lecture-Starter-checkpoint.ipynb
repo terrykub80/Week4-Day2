{
 "cells": [
  {
   "cell_type": "markdown",
   "metadata": {},
   "source": [
    "# Regular Expressions"
   ]
  },
  {
   "cell_type": "markdown",
   "metadata": {},
   "source": [
    "# Tasks today:\n",
    "1) <b>Importing</b> <br>\n",
    "2) <b>Using Regular Expressions</b> <br>\n",
    " &nbsp;&nbsp;&nbsp;&nbsp; a) re.compile() <br>\n",
    " &nbsp;&nbsp;&nbsp;&nbsp; b) re.match() <br>\n",
    " &nbsp;&nbsp;&nbsp;&nbsp; c) re.findall() <br>\n",
    " &nbsp;&nbsp;&nbsp;&nbsp; d) re.search() <br>\n",
    "3) <b>Sets</b> <br>\n",
    " &nbsp;&nbsp;&nbsp;&nbsp; a) Integer Ranges <br>\n",
    " &nbsp;&nbsp;&nbsp;&nbsp; b) Character Ranges <br>\n",
    "4) <b>Counting Occurences</b> <br>\n",
    " &nbsp;&nbsp;&nbsp;&nbsp; a) {x} <br>\n",
    " &nbsp;&nbsp;&nbsp;&nbsp; b) {, x} <br>\n",
    " &nbsp;&nbsp;&nbsp;&nbsp; c) {?} <br>\n",
    " &nbsp;&nbsp;&nbsp;&nbsp; d) {*} <br>\n",
    " &nbsp;&nbsp;&nbsp;&nbsp; e) {+} <br>\n",
    "5) <b>In-Class Exercise #1</b> <br>\n",
    "6) <b>Escaping Characters</b> <br>\n",
    "7) <b>Grouping</b> <br>\n",
    "8) <b>In-Class Exercise #2</b> <br>\n",
    "9) <b>Opening a File</b> <br>\n",
    " &nbsp;&nbsp;&nbsp;&nbsp; a) open() <br>\n",
    " &nbsp;&nbsp;&nbsp;&nbsp; b) with open() <br>\n",
    " &nbsp;&nbsp;&nbsp;&nbsp; c) re.match() <br>\n",
    " &nbsp;&nbsp;&nbsp;&nbsp; d) re.search() <br>\n",
    " &nbsp;&nbsp;&nbsp;&nbsp; e) Store the String in a Variable <br>\n",
    "10) <b>Regex Project</b> <br>"
   ]
  },
  {
   "cell_type": "markdown",
   "metadata": {},
   "source": [
    "### Importing <br>\n",
    "<p>Regular Expressions are universal throughout most programming languages... They are generally imported through the module 're'.</p>"
   ]
  },
  {
   "cell_type": "code",
   "execution_count": 1,
   "metadata": {},
   "outputs": [],
   "source": [
    "# import re\n",
    "import re"
   ]
  },
  {
   "cell_type": "code",
   "execution_count": null,
   "metadata": {},
   "outputs": [],
   "source": [
    "print(re)"
   ]
  },
  {
   "cell_type": "markdown",
   "metadata": {},
   "source": [
    "### Using Regular Expressions <br>\n",
    "<p>Regular expressions give us the ability to search for patterns within text, strings, files, etc. They serve several uses, such as; security measures, searching, filtering, pattern recognition, and more...</p>"
   ]
  },
  {
   "cell_type": "markdown",
   "metadata": {},
   "source": [
    "##### re.compile()"
   ]
  },
  {
   "cell_type": "code",
   "execution_count": null,
   "metadata": {},
   "outputs": [],
   "source": [
    "# using compile, predetermines the string to be used in regular expression methods\n",
    "pattern = re.compile('abcd')\n",
    "print(pattern)\n",
    "print(type(pattern))\n",
    "pattern"
   ]
  },
  {
   "cell_type": "markdown",
   "metadata": {},
   "source": [
    "##### re.match()"
   ]
  },
  {
   "cell_type": "code",
   "execution_count": null,
   "metadata": {},
   "outputs": [],
   "source": [
    "help(pattern.match)"
   ]
  },
  {
   "cell_type": "code",
   "execution_count": null,
   "metadata": {},
   "outputs": [],
   "source": [
    "# Calling the .match method from the Pattern object - returns a Match object if there is a match\n",
    "match = pattern.match('abcd123')\n",
    "print(match)"
   ]
  },
  {
   "cell_type": "code",
   "execution_count": null,
   "metadata": {},
   "outputs": [],
   "source": [
    "# return none if there is no match. *Match starts at the BEGINNING of the string\n",
    "\n",
    "match2 = pattern.match('123abcd')\n",
    "print(match2)"
   ]
  },
  {
   "cell_type": "code",
   "execution_count": null,
   "metadata": {},
   "outputs": [],
   "source": [
    "# Calling match function from the re module (as opposed to from the Pattern object), pattern is the first arg\n",
    "\n",
    "match3 = re.match('abcd', 'abcdefghijk')\n",
    "print(match3)"
   ]
  },
  {
   "cell_type": "code",
   "execution_count": null,
   "metadata": {},
   "outputs": [],
   "source": []
  },
  {
   "cell_type": "markdown",
   "metadata": {},
   "source": [
    "##### re.search()"
   ]
  },
  {
   "cell_type": "code",
   "execution_count": null,
   "metadata": {},
   "outputs": [],
   "source": [
    "help(pattern.search)"
   ]
  },
  {
   "cell_type": "code",
   "execution_count": null,
   "metadata": {
    "scrolled": true
   },
   "outputs": [],
   "source": [
    "# Returns the first match it finds as it scans left to right through the string\n",
    "search = pattern.search('123 123 bcda abcd 321 abcd adcb')\n",
    "print(search)"
   ]
  },
  {
   "cell_type": "code",
   "execution_count": null,
   "metadata": {},
   "outputs": [],
   "source": [
    "# Retrns none if no match found\n",
    "search2 = pattern.search('123ab7cd 32 dbca abdc c2abd')\n",
    "print(search2)"
   ]
  },
  {
   "cell_type": "code",
   "execution_count": null,
   "metadata": {},
   "outputs": [],
   "source": [
    "# Calling from re module\n",
    "\n",
    "search3 = re.search('abcd', '123abd cbad, ab12, dacb, abcd, 123')\n",
    "print(search3)"
   ]
  },
  {
   "cell_type": "code",
   "execution_count": null,
   "metadata": {},
   "outputs": [],
   "source": [
    "random_string= \"akldjfkjaskfaidfabcdanklrjrwekjf;lkadsgv\"\n",
    "\n",
    "search4 = re.search('abcd', random_string)\n",
    "print(search4)"
   ]
  },
  {
   "cell_type": "code",
   "execution_count": null,
   "metadata": {},
   "outputs": [],
   "source": [
    "span = search4.span()\n",
    "print(span)\n",
    "print(random_string[16:20])"
   ]
  },
  {
   "cell_type": "markdown",
   "metadata": {},
   "source": [
    "##### re.findall()"
   ]
  },
  {
   "cell_type": "code",
   "execution_count": null,
   "metadata": {
    "scrolled": true
   },
   "outputs": [],
   "source": [
    "help(pattern.findall)"
   ]
  },
  {
   "cell_type": "code",
   "execution_count": null,
   "metadata": {},
   "outputs": [],
   "source": [
    "# Will find no matter where in string\n",
    "\n",
    "findall = pattern.findall('123abcd')\n",
    "print(findall)"
   ]
  },
  {
   "cell_type": "code",
   "execution_count": null,
   "metadata": {},
   "outputs": [],
   "source": [
    "# Returns empty list if doesn't find anything\n",
    "\n",
    "findall2 = pattern.findall('123 abc5d abccd 321 32ab2cd1 1abdcd23 dbca dcba adcb')\n",
    "print(findall2)"
   ]
  },
  {
   "cell_type": "code",
   "execution_count": null,
   "metadata": {},
   "outputs": [],
   "source": [
    "# Findall returns a list of ALL of the matchs in the string\n",
    "\n",
    "all_abcds = pattern.findall(' 123 abcd abcd 321 32abcd1 1abcd23 dbca dcba adcb')\n",
    "print(all_abcds)"
   ]
  },
  {
   "cell_type": "code",
   "execution_count": null,
   "metadata": {},
   "outputs": [],
   "source": [
    "# Calling from re module, pattern is first arg\n",
    "\n",
    "findall3 = re.findall('abcd', '123 abcd abcd 321 32abcd1 1abcd23 dbca dcba adcb')\n",
    "print(findall3)"
   ]
  },
  {
   "cell_type": "code",
   "execution_count": null,
   "metadata": {},
   "outputs": [],
   "source": []
  },
  {
   "cell_type": "code",
   "execution_count": null,
   "metadata": {},
   "outputs": [],
   "source": []
  },
  {
   "cell_type": "markdown",
   "metadata": {},
   "source": [
    "### Sets <br>\n",
    "<p>The following cells will allow you to use regular expressions to search for certain values within a range such as numbers 1 through 4.</p>"
   ]
  },
  {
   "cell_type": "markdown",
   "metadata": {},
   "source": [
    "##### [a-z] or [A-Z] - any lowercase/uppercase letters from a to z<br/>[^2] - anything that's not 2"
   ]
  },
  {
   "cell_type": "markdown",
   "metadata": {},
   "source": [
    "##### Integer Ranges"
   ]
  },
  {
   "cell_type": "code",
   "execution_count": null,
   "metadata": {},
   "outputs": [],
   "source": [
    "pattern_int = re.compile('1357')\n",
    "number_string = '3241654654135715165464651'\n",
    "\n",
    "matches = pattern_int.findall(number_string)\n",
    "print(matches)"
   ]
  },
  {
   "cell_type": "code",
   "execution_count": null,
   "metadata": {},
   "outputs": [],
   "source": [
    "# using [] denotes returning a list of all matches\n",
    "\n",
    "pattern_int2 = re.compile('[1357]')\n",
    "number_string2 = '3241654654135715165464651'\n",
    "\n",
    "matches2 = pattern_int2.findall(number_string2)\n",
    "print(matches2)"
   ]
  },
  {
   "cell_type": "code",
   "execution_count": null,
   "metadata": {},
   "outputs": [],
   "source": [
    "# Use the [] with a '-' separating the range to find numbers in a range\n",
    "# prints all NON OVERLAPPING matches\n",
    "\n",
    "pattern_int_range = re.compile('[0-5][0-9]')\n",
    "numbers = '4564645646549684612152464689789548964'\n",
    "\n",
    "all_nums = pattern_int_range.findall(numbers)\n",
    "print(all_nums)"
   ]
  },
  {
   "cell_type": "code",
   "execution_count": null,
   "metadata": {},
   "outputs": [],
   "source": [
    "zip_codes = \"60612, 24312, 34254, 60643, 60603, 23445\"\n",
    "\n",
    "chicago_zips = re.compile('606[0-9][0-9]')\n",
    "chicago_zips.findall(zip_codes)"
   ]
  },
  {
   "cell_type": "code",
   "execution_count": null,
   "metadata": {},
   "outputs": [],
   "source": [
    "not_two = re.compile('[^2]')\n",
    "\n",
    "non_twos = not_two.findall(numbers)\n",
    "\n",
    "print(non_twos)"
   ]
  },
  {
   "cell_type": "markdown",
   "metadata": {},
   "source": [
    "##### Character Ranges"
   ]
  },
  {
   "cell_type": "code",
   "execution_count": null,
   "metadata": {},
   "outputs": [],
   "source": [
    "char_pattern = re.compile('[A-Z][a-z]') # Looking for two characters, a capital letter followed by a lowercase letter\n",
    "\n",
    "found = char_pattern.findall('Hello Mr. Anderson')\n",
    "\n",
    "print(found)"
   ]
  },
  {
   "cell_type": "code",
   "execution_count": null,
   "metadata": {},
   "outputs": [],
   "source": [
    "# Character range - Uppercase comes first in order\n",
    "\n",
    "all_alphabet = re.compile('[A-z]') # Same as '[A-Za-z]'\n",
    "\n",
    "letters = all_alphabet.findall(\"Hello today is December 20th and it is 25 degrees and I live at 123 Real Street\")\n",
    "\n",
    "print(letters)"
   ]
  },
  {
   "cell_type": "code",
   "execution_count": null,
   "metadata": {},
   "outputs": [],
   "source": [
    "non_vowels = re.compile('[^aeiouAEIOU]')\n",
    "\n",
    "fixed_troll = non_vowels.findall('This website is for losers LOL!')\n",
    "\n",
    "print(''.join(fixed_troll))"
   ]
  },
  {
   "cell_type": "code",
   "execution_count": null,
   "metadata": {},
   "outputs": [],
   "source": [
    "def uncamel(cameled_string):\n",
    "    output = ''\n",
    "    for letter in cameled_string:\n",
    "        if re.match('[A-Z]', letter):\n",
    "            output += \" \"\n",
    "        output += letter\n",
    "    return output\n",
    "\n",
    "uncamel('UncamelThisCamelCaseExample')"
   ]
  },
  {
   "cell_type": "markdown",
   "metadata": {},
   "source": [
    "### Counting Occurences"
   ]
  },
  {
   "cell_type": "markdown",
   "metadata": {},
   "source": [
    "##### {x} - something that occurs {num_of_times}"
   ]
  },
  {
   "cell_type": "code",
   "execution_count": null,
   "metadata": {},
   "outputs": [],
   "source": [
    "zip_codes = \"123 Real Street, Chicago, IL, 60612; 555 Circle Drive, New York, NY, 24312; 444 Square Rd, Boston, MA, 34254\"\n",
    "\n",
    "zip_code_pattern = re.compile('[0-9]{5}') # Looking for exactly 5 characters of 0 thru 9\n",
    "\n",
    "zip_code_pattern.findall(zip_codes)"
   ]
  },
  {
   "cell_type": "markdown",
   "metadata": {},
   "source": [
    "##### {x, y} - something that occurs between x and y times"
   ]
  },
  {
   "cell_type": "code",
   "execution_count": null,
   "metadata": {},
   "outputs": [],
   "source": [
    "my_address = \"555 Circle Dr, Apt 1, Miami, FL, 40493-3452, 123456789541466565\"\n",
    "\n",
    "# Pattern to find all 0-9 digits between three and five digits long (will grab all it can- pulls 4 strings from \n",
    "#                                                                   from long number, last one only 3 digits)\n",
    "\n",
    "three_to_five = re.compile('[0-9]{3,5}')\n",
    "\n",
    "found_nums = three_to_five.findall(my_address)\n",
    "\n",
    "print(found_nums)"
   ]
  },
  {
   "cell_type": "markdown",
   "metadata": {},
   "source": [
    "##### ? - something that occurs 0 or 1 time"
   ]
  },
  {
   "cell_type": "code",
   "execution_count": null,
   "metadata": {},
   "outputs": [],
   "source": [
    "test_string = \"Hello Mr. and Mrs. Anderson. Have you seen Ms. Smith? My favorite letter is M\""
   ]
  },
  {
   "cell_type": "code",
   "execution_count": null,
   "metadata": {},
   "outputs": [],
   "source": [
    "my_pattern = re.compile('Mr?s?') # Looking for -> M, Mr, Ms, Mrs (Same as writing 'Mr{0,1}s{0,1}')\n",
    "\n",
    "found_pattern = my_pattern.findall(test_string)\n",
    "\n",
    "print(found_pattern)"
   ]
  },
  {
   "cell_type": "code",
   "execution_count": null,
   "metadata": {},
   "outputs": [],
   "source": []
  },
  {
   "cell_type": "code",
   "execution_count": null,
   "metadata": {},
   "outputs": [],
   "source": []
  },
  {
   "cell_type": "markdown",
   "metadata": {},
   "source": [
    "##### * - something that occurs at least 0 times"
   ]
  },
  {
   "cell_type": "code",
   "execution_count": null,
   "metadata": {},
   "outputs": [],
   "source": [
    "test_string2 = \"Hello Mrrrrrrr. and Mrrrrrrrrrrrsssssssss. Anderson. Have you seen MMMMMMs. Smith? My favorite letter is M\""
   ]
  },
  {
   "cell_type": "code",
   "execution_count": null,
   "metadata": {},
   "outputs": [],
   "source": [
    "my_pattern2 = re.compile('Mr*s*') # 'Mr{0, infinity}s{0, infinity}' min of 0, max of as many as possible\n",
    "\n",
    "found_pattern2 = my_pattern2.findall(test_string2)\n",
    "\n",
    "print(found_pattern2)"
   ]
  },
  {
   "cell_type": "markdown",
   "metadata": {},
   "source": [
    "##### + - something that occurs at least once"
   ]
  },
  {
   "cell_type": "code",
   "execution_count": null,
   "metadata": {},
   "outputs": [],
   "source": [
    "my_pattern3 = re.compile('Mr+s+') # 'Mr{1, infinity}s{1, infinity}' min of 0, max of as many as possible\n",
    "\n",
    "found_pattern3 = my_pattern3.findall(test_string2)\n",
    "\n",
    "print(found_pattern3)"
   ]
  },
  {
   "cell_type": "markdown",
   "metadata": {},
   "source": [
    "##### In-class exercise 1: \n",
    "\n",
    "Use a regular expression to find every number in the given string"
   ]
  },
  {
   "cell_type": "code",
   "execution_count": null,
   "metadata": {},
   "outputs": [],
   "source": [
    "my_string = \"This string has 10909090 numbers, but it is only 1 string. I hope you solve this 2day.\"\n",
    "\n",
    "just_nums = re.compile('[0-9]+')\n",
    "\n",
    "show_nums = just_nums.findall(my_string)\n",
    "\n",
    "print(show_nums)\n",
    "\n",
    "# Output: ['10909090','1',2]\n"
   ]
  },
  {
   "cell_type": "code",
   "execution_count": null,
   "metadata": {},
   "outputs": [],
   "source": [
    "my_stringx = \"This string has 10909090 numbers, but it is only 1 string. I hope you solve this 2day.\"\n",
    "\n",
    "just_numsx = re.findall('[0-9]+', my_stringx)\n",
    "\n",
    "print(just_numsx)"
   ]
  },
  {
   "cell_type": "markdown",
   "metadata": {},
   "source": [
    "### Escaping Characters"
   ]
  },
  {
   "cell_type": "code",
   "execution_count": null,
   "metadata": {},
   "outputs": [],
   "source": [
    "my_question = \"How do I find the question mark?\"\n",
    "\n",
    "re.search(\"\\?\", my_question)"
   ]
  },
  {
   "cell_type": "code",
   "execution_count": null,
   "metadata": {},
   "outputs": [],
   "source": [
    "my_question2 = \"How do I find the question mark???????\"\n",
    "\n",
    "re.search(\"\\?+\", my_question2)"
   ]
  },
  {
   "cell_type": "code",
   "execution_count": null,
   "metadata": {},
   "outputs": [],
   "source": [
    "phone_number = re.compile('\\(?[0-9]{3}\\)? [0-9]{3}[- ]?[0-9]{4}')\n",
    "\n",
    "my_info = \"My name is Terry and my phone number is 315 489 9205 and your number is 703 504-9568.\"\n",
    "\n",
    "phone_number.findall(my_info)"
   ]
  },
  {
   "cell_type": "markdown",
   "metadata": {},
   "source": [
    "##### \\w - look for any Unicode character<br/>\\W - look for anything that isnt a Unicode character\n",
    "\n",
    "[History on Unicode](http://unicode.org/standard/WhatIsUnicode.html)\n",
    "\n",
    "[More on Unicode Characters](https://en.wikipedia.org/wiki/List_of_Unicode_characters)"
   ]
  },
  {
   "cell_type": "code",
   "execution_count": null,
   "metadata": {},
   "outputs": [],
   "source": [
    "sentence = \"This is a sentence. With an, exclamation mark at the end! \\n first_name 123-456\"\n",
    "\n",
    "character_pattern = re.compile('\\w') # All lowercase, uppercase, 0-9, and _\n",
    "\n",
    "characters = character_pattern.findall(sentence)\n",
    "\n",
    "print(characters)"
   ]
  },
  {
   "cell_type": "code",
   "execution_count": null,
   "metadata": {},
   "outputs": [],
   "source": [
    "word_pattern = re.compile('\\w+') # find characters that add up to words\n",
    "\n",
    "words = word_pattern.findall(sentence)\n",
    "\n",
    "print(words)"
   ]
  },
  {
   "cell_type": "code",
   "execution_count": null,
   "metadata": {},
   "outputs": [],
   "source": [
    "non_letter_pattern = re.compile('\\W') # NOT lowercase, uppercase, 0-9, and _\n",
    "\n",
    "non_letters = non_letter_pattern.findall(sentence)\n",
    "\n",
    "print(non_letters)"
   ]
  },
  {
   "cell_type": "markdown",
   "metadata": {},
   "source": [
    "##### \\d - look for any digit 0-9<br/>\\D - look for anything that isnt a digit"
   ]
  },
  {
   "cell_type": "code",
   "execution_count": null,
   "metadata": {},
   "outputs": [],
   "source": [
    "some_string = \"Hello it is 2:05PM on 12/20/2022\"\n",
    "\n",
    "digit_pat = re.compile('\\d') # [0-9]\n",
    "\n",
    "digits = digit_pat.findall(some_string)\n",
    "\n",
    "print(digits)"
   ]
  },
  {
   "cell_type": "code",
   "execution_count": null,
   "metadata": {},
   "outputs": [],
   "source": [
    "combo_digits_pat = re.compile('\\d+')\n",
    "\n",
    "combo_digits = combo_digits_pat.findall(some_string)\n",
    "\n",
    "print(combo_digits)"
   ]
  },
  {
   "cell_type": "code",
   "execution_count": null,
   "metadata": {},
   "outputs": [],
   "source": [
    "non_digit_pat = re.compile('\\D')\n",
    "\n",
    "non_digits = non_digit_pat.findall(some_string)\n",
    "\n",
    "print(non_digits)"
   ]
  },
  {
   "cell_type": "markdown",
   "metadata": {},
   "source": [
    "##### \\s - look for any white space<br/>\\S - look for anything that isnt whitespace"
   ]
  },
  {
   "cell_type": "code",
   "execution_count": null,
   "metadata": {},
   "outputs": [],
   "source": [
    "crazy_sentence = \"This is a sentence.\\t with an, exclamation mark at the end!!\\n first_name \\t 123-456\"\n",
    "\n",
    "print(crazy_sentence)"
   ]
  },
  {
   "cell_type": "code",
   "execution_count": null,
   "metadata": {},
   "outputs": [],
   "source": [
    "space_pattern = re.compile('\\s') # '[ \\n\\t\\r\\f\\v]'\n",
    "\n",
    "whitespace = space_pattern.findall(crazy_sentence)\n",
    "\n",
    "print(whitespace)"
   ]
  },
  {
   "cell_type": "code",
   "execution_count": null,
   "metadata": {},
   "outputs": [],
   "source": [
    "non_space_pattern = re.compile('\\S') # not '[ \\n\\t\\r\\f\\v]'\n",
    "\n",
    "not_whitespace = non_space_pattern.findall(crazy_sentence)\n",
    "\n",
    "print(not_whitespace)"
   ]
  },
  {
   "cell_type": "code",
   "execution_count": null,
   "metadata": {},
   "outputs": [],
   "source": [
    "words_with_chars_pat = re.compile('\\S+')\n",
    "\n",
    "words_with_chars = words_with_chars_pat.findall(crazy_sentence)\n",
    "\n",
    "print(words_with_chars)"
   ]
  },
  {
   "cell_type": "markdown",
   "metadata": {},
   "source": [
    "##### \\b - look for boundaries or edges of a word<br/>\\B - look for anything that isnt a boundary"
   ]
  },
  {
   "cell_type": "code",
   "execution_count": null,
   "metadata": {},
   "outputs": [],
   "source": [
    "# \\b is a built in expression for python that backspaces a character. Must change to raw string with an \"r\" at the start\n",
    "\n",
    "print(\"Hello\\b World\")\n",
    "print(r\"Hello\\b World\")"
   ]
  },
  {
   "cell_type": "code",
   "execution_count": null,
   "metadata": {},
   "outputs": [],
   "source": [
    "rhyme = \"The cat knows how to catch scat\"\n",
    "\n",
    "my_pattern_boundry = re.compile(r'\\bcat\\b')\n",
    "                                \n",
    "my_pattern_boundry.findall(rhyme)"
   ]
  },
  {
   "cell_type": "code",
   "execution_count": null,
   "metadata": {},
   "outputs": [],
   "source": [
    "non_boundry = re.compile(\"cat\\B\")\n",
    "\n",
    "non_boundry.search(rhyme)"
   ]
  },
  {
   "cell_type": "code",
   "execution_count": null,
   "metadata": {},
   "outputs": [],
   "source": []
  },
  {
   "cell_type": "code",
   "execution_count": null,
   "metadata": {},
   "outputs": [],
   "source": []
  },
  {
   "cell_type": "code",
   "execution_count": null,
   "metadata": {},
   "outputs": [],
   "source": []
  },
  {
   "cell_type": "markdown",
   "metadata": {},
   "source": [
    "### Grouping"
   ]
  },
  {
   "cell_type": "code",
   "execution_count": null,
   "metadata": {},
   "outputs": [],
   "source": [
    "my_string_again = \"Max Smith, Aaron Rodgers, Sam Darnold,LeBron James, Micheal Jordan, Kevin Durant, Patrick McCormick\"\n",
    "\n",
    "# Group of names Regular Expression Compiler\n",
    "# [A-Z][a-zA-Z]+ [A-Z][a-zA-Z]+  -> Uppercase letter followed by at least one other lower or uppercase letter\n",
    "# followed by a space and then an uppercas letter followed by at least one upper or lowercase letter\n",
    "\n",
    "name_pattern = re.compile('(?P<first>[A-Z][a-zA-Z]+) (?P<last>[A-Z][a-zA-Z]+)')\n",
    "\n",
    "names = name_pattern.findall(my_string_again)\n",
    "\n",
    "print(names)\n",
    "\n",
    "print('='*50)\n",
    "\n",
    "for name in names:\n",
    "    print(name, type(name))"
   ]
  },
  {
   "cell_type": "code",
   "execution_count": null,
   "metadata": {},
   "outputs": [],
   "source": [
    "names = name_pattern.finditer(my_string_again)\n",
    "print(names)\n",
    "\n",
    "for name in names:\n",
    "    print(name.group())\n",
    "    print(name.group(1))\n",
    "    print(name.group(2))\n",
    "    print('='*50)\n",
    "    print(name.group('last'))\n",
    "    print('='*50)\n",
    "\n",
    "    "
   ]
  },
  {
   "cell_type": "code",
   "execution_count": null,
   "metadata": {},
   "outputs": [],
   "source": []
  },
  {
   "cell_type": "code",
   "execution_count": null,
   "metadata": {},
   "outputs": [],
   "source": []
  },
  {
   "cell_type": "markdown",
   "metadata": {},
   "source": [
    "##### In-class Exercise 2:\n",
    "\n",
    "Write a function using regular expressions to find the domain name in the given email addresses (and return None for the invalid email addresses)<br><b>HINT: Use '|' for either or</b>"
   ]
  },
  {
   "cell_type": "code",
   "execution_count": null,
   "metadata": {},
   "outputs": [],
   "source": [
    "my_emails = [\"jordanw@codingtemple.orgcom\", \"pocohontas1776@gmail.com\", \"helloworld@aol..com\",\n",
    "             \"yourfavoriteband@g6.org\", \"@codingtemple.com\"]\n",
    "\n",
    "# You can also use the $ at the end of your compile expression -- this stops the search\n",
    "\n",
    "#Expected output:\n",
    "#None\n",
    "#pocohontas1776@gmail.com\n",
    "#None\n",
    "#yourfavoriteband@g6.org\n",
    "#None\n"
   ]
  },
  {
   "cell_type": "code",
   "execution_count": null,
   "metadata": {},
   "outputs": [],
   "source": [
    "def is_valid_email(email_address):\n",
    "    email_pattern = re.compile(\"\\w+@\\w+\\.(com|org)$\")\n",
    "    for email in my_emails:\n",
    "        found_email = email_pattern.findall(email)\n",
    "        if found_email:\n",
    "            print(email)\n",
    "        else:\n",
    "            print(None)\n",
    "\n",
    "        \n",
    "    \n",
    "is_valid_email(my_emails)"
   ]
  },
  {
   "cell_type": "markdown",
   "metadata": {},
   "source": [
    "### Opening a File <br>\n",
    "<p>Python gives us a couple ways to import files, below are the two used most often.</p>"
   ]
  },
  {
   "cell_type": "markdown",
   "metadata": {},
   "source": [
    "##### open()"
   ]
  },
  {
   "cell_type": "code",
   "execution_count": null,
   "metadata": {
    "scrolled": true
   },
   "outputs": [],
   "source": [
    "help(open)"
   ]
  },
  {
   "cell_type": "markdown",
   "metadata": {},
   "source": []
  },
  {
   "cell_type": "code",
   "execution_count": null,
   "metadata": {},
   "outputs": [],
   "source": [
    "file = open('names.txt')\n",
    "\n",
    "print(file)\n",
    "\n",
    "file"
   ]
  },
  {
   "cell_type": "code",
   "execution_count": null,
   "metadata": {},
   "outputs": [],
   "source": [
    "# Open using a relative path\n",
    "# (if file were in Week4/Day1 folder)\n",
    "\n",
    "# test_file = open('../day1/test.txt')"
   ]
  },
  {
   "cell_type": "code",
   "execution_count": null,
   "metadata": {
    "scrolled": true
   },
   "outputs": [],
   "source": [
    "data = file.read()\n",
    "\n",
    "print(data)\n",
    "\n"
   ]
  },
  {
   "cell_type": "code",
   "execution_count": null,
   "metadata": {
    "scrolled": true
   },
   "outputs": [],
   "source": [
    "data"
   ]
  },
  {
   "cell_type": "code",
   "execution_count": null,
   "metadata": {
    "scrolled": true
   },
   "outputs": [],
   "source": [
    "print(type(data))"
   ]
  },
  {
   "cell_type": "markdown",
   "metadata": {},
   "source": [
    "##### with open()"
   ]
  },
  {
   "cell_type": "code",
   "execution_count": null,
   "metadata": {},
   "outputs": [],
   "source": [
    "with open('names.txt') as new_file:\n",
    "    data2 = new_file.read()\n",
    "    print(data2)"
   ]
  },
  {
   "cell_type": "code",
   "execution_count": null,
   "metadata": {},
   "outputs": [],
   "source": []
  },
  {
   "cell_type": "markdown",
   "metadata": {},
   "source": [
    "##### re.match()"
   ]
  },
  {
   "cell_type": "code",
   "execution_count": null,
   "metadata": {},
   "outputs": [],
   "source": [
    "re.match('\\w+', data)"
   ]
  },
  {
   "cell_type": "markdown",
   "metadata": {},
   "source": [
    "##### re.search()"
   ]
  },
  {
   "cell_type": "code",
   "execution_count": null,
   "metadata": {},
   "outputs": [],
   "source": [
    "x = re.search('Stanton', data)\n",
    "print(x)"
   ]
  },
  {
   "cell_type": "code",
   "execution_count": null,
   "metadata": {},
   "outputs": [],
   "source": [
    "print(data[90:97])"
   ]
  },
  {
   "cell_type": "markdown",
   "metadata": {},
   "source": [
    "##### Store the String to a Variable"
   ]
  },
  {
   "cell_type": "code",
   "execution_count": null,
   "metadata": {},
   "outputs": [],
   "source": [
    "answer = input(\"For what would you like to search? \")\n",
    "\n",
    "found = re.search(answer, data)\n",
    "\n",
    "if found:\n",
    "    span_tuple = found.span()\n",
    "    print(f\"I found {answer} in the data from index {span_tuple[0]} to {span_tuple[1]}\")\n",
    "else:\n",
    "    print(f\"{answer} not in data\")\n"
   ]
  },
  {
   "cell_type": "code",
   "execution_count": null,
   "metadata": {},
   "outputs": [],
   "source": []
  },
  {
   "cell_type": "markdown",
   "metadata": {},
   "source": [
    "### Team Exercise #3 <br>\n",
    "<p>Print each persons name and twitter handle, using groups, should look like:</p>\n",
    "<p>==============<br>\n",
    "   Full Name / Twitter<br>\n",
    "   ==============</p>\n",
    "Derek Hawkins / @derekhawkins\n",
    "\n",
    " Erik Sven-Osterberg / @sverik\n",
    "\n",
    " Ryan Butz / @ryanbutz\n",
    "\n",
    " Example Exampleson / @example\n",
    "\n",
    " Ripal Pael / @ripalp\n",
    "\n",
    " Darth Vader / @darthvader"
   ]
  },
  {
   "cell_type": "code",
   "execution_count": null,
   "metadata": {
    "scrolled": true
   },
   "outputs": [],
   "source": [
    "# Adding Flags (re.M(Multiline) & re.X(Verbose))\n",
    "\n",
    "names_pattern = re.compile(r\"\"\"\n",
    "    (?P<person>^[\\w\\s]*,\\s[\\w\\s+-]+)\\t            # Name of our person: Last, First *all have match\n",
    "    (?P<email>[\\w+-]+@[\\w\\.]+)\\s                  #  Email of our person: something@something.com *all have match\n",
    "    (?P<phone>\\(?\\d{3}\\)?[\\s-]\\d{3}-\\d{4})?\\s     # Phone number of person: (XXX) XXX-XXXX or  XXX-XXX-XXXX  *not all will have\n",
    "    (?P<title>[\\w\\s]+,\\s[\\w\\s\\.]+)\\s*             # Title of person: Position, Company *all have match\n",
    "    (?P<twitter>@[\\w]+)?$                         # Twitter handle: @twittername *end of line * not all have match\n",
    "\"\"\",re.M|re.X)"
   ]
  },
  {
   "cell_type": "code",
   "execution_count": null,
   "metadata": {
    "scrolled": true
   },
   "outputs": [],
   "source": [
    "my_match = names_pattern.match(data)\n",
    "my_match"
   ]
  },
  {
   "cell_type": "code",
   "execution_count": null,
   "metadata": {},
   "outputs": [],
   "source": [
    "print(my_match.group('phone'))"
   ]
  },
  {
   "cell_type": "code",
   "execution_count": null,
   "metadata": {},
   "outputs": [],
   "source": [
    "for match in names_pattern.finditer(data):\n",
    "    if match.group('twitter'):\n",
    "        print('='*50)\n",
    "        full_name = match.group('person')\n",
    "        first_name = full_name.split(', ')[1]\n",
    "        last_name = full_name.split(', '[0])\n",
    "        print(f\"{first_name} {last_name} / {match.group('twitter')}\")"
   ]
  },
  {
   "cell_type": "markdown",
   "metadata": {},
   "source": [
    "### Regex project\n",
    "\n",
    "Use python to read the file regex_test.txt and print the last name on each line using regular expressions and groups (return None for names with no first and last name, or names that aren't properly capitalized)\n",
    "##### Hint: use with open() and readlines()"
   ]
  },
  {
   "cell_type": "code",
   "execution_count": null,
   "metadata": {},
   "outputs": [],
   "source": [
    "\"\"\"\n",
    "Expected Output\n",
    "Abraham Lincoln\n",
    "Andrew P Garfield\n",
    "Connor Milliken\n",
    "Jordan Alexander Williams\n",
    "None\n",
    "None\n",
    "\"\"\""
   ]
  },
  {
   "cell_type": "code",
   "execution_count": 12,
   "metadata": {},
   "outputs": [],
   "source": [
    "with open('regex_test.txt') as file:\n",
    "    list_data = file.readlines()"
   ]
  },
  {
   "cell_type": "code",
   "execution_count": 14,
   "metadata": {},
   "outputs": [
    {
     "name": "stdout",
     "output_type": "stream",
     "text": [
      "Abraham Lincoln\n",
      "Andrew P Garfield\n",
      "Connor Milliken\n",
      "Jordan Alexander Williams\n",
      "None\n",
      "None\n"
     ]
    }
   ],
   "source": [
    "valid_name = re.compile(\"^(?P<first>[A-Z][a-z]+\\s)(?P<middle>[A-Z][a-z]*\\s)?(?P<last>[A-Z][a-z]+)$\", re.M)\n",
    "\n",
    "for name in list_data:\n",
    "    match = valid_name.match(name)\n",
    "    if match:\n",
    "        print(match.group())\n",
    "    else:\n",
    "        print(None)"
   ]
  },
  {
   "cell_type": "code",
   "execution_count": null,
   "metadata": {},
   "outputs": [],
   "source": []
  },
  {
   "cell_type": "code",
   "execution_count": null,
   "metadata": {},
   "outputs": [],
   "source": [
    "\n",
    "\n"
   ]
  }
 ],
 "metadata": {
  "kernelspec": {
   "display_name": "Python 3 (ipykernel)",
   "language": "python",
   "name": "python3"
  },
  "language_info": {
   "codemirror_mode": {
    "name": "ipython",
    "version": 3
   },
   "file_extension": ".py",
   "mimetype": "text/x-python",
   "name": "python",
   "nbconvert_exporter": "python",
   "pygments_lexer": "ipython3",
   "version": "3.9.12"
  }
 },
 "nbformat": 4,
 "nbformat_minor": 2
}
